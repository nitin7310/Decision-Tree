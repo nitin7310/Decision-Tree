{
  "nbformat": 4,
  "nbformat_minor": 0,
  "metadata": {
    "colab": {
      "provenance": []
    },
    "kernelspec": {
      "name": "python3",
      "display_name": "Python 3"
    },
    "language_info": {
      "name": "python"
    }
  },
  "cells": [
    {
      "cell_type": "markdown",
      "source": [
        "#Decision Tree\n",
        "\n",
        "Q1. What is a Decision Tree, and how does it work?\n",
        "\n",
        "  ->A decision tree is a visual and analytical tool used for making decisions based on various conditions. It works by breaking down a complex problem into smaller, more manageable parts using a tree-like structure of nodes and branches\n",
        "\n",
        "  How It Works\n",
        "\n",
        "  1.Root Node: The starting point of the decision tree, representing the main question or problem.\n",
        "\n",
        "  2.Internal Nodes: Each node represents a decision or test based on certain conditions.\n",
        "\n",
        "  3.Branches: The connections between nodes, showing possible choices and their outcomes.\n",
        "\n",
        "  4.Leaf Nodes: The final points in the tree, representing the ultimate decisions or classifications.\n",
        "\n",
        "Q2.What are impurity measures in Decision Trees?\n",
        "\n",
        "  -> Impurity measures in decision trees are metrics used to evaluate how mixed or \"impure\" a dataset is at a given node. The goal is to split data in a way that reduces impurity, making classifications more distinct.\n",
        "\n",
        "\n",
        "Q3.What is the mathematical formula for Gini Impurity?\n",
        "              k\n",
        "  ->  𝐺 = 1 − ∑ 𝑝𝑖2\n",
        "              i=1\n",
        "\n",
        "\n",
        "Q4.What is the mathematical formula for Entropy?\n",
        "\n",
        "            k\n",
        "  ->  𝐻 = − ∑𝑝𝑖 log⁡ 𝑝𝑖\n",
        "            i=1\n",
        "\n",
        "Where:𝐻 is the entropy.\n",
        "      𝑘 is the number of classes.\n",
        "      𝑝𝑖 is the probability of an instance belonging to class\n",
        "\n",
        "\n",
        "Q5.What is Information Gain, and how is it used in Decision Trees?\n",
        "\n",
        "  -> Information Gain is a key concept in decision trees used to measure how much uncertainty is reduced after splitting a dataset based on a specific feature. It helps determine the best feature for dividing data to create more distinct and meaningful classifications\n",
        "\n",
        "\n",
        "  How It’s Used in Decision Trees\n",
        "\n",
        "\n",
        "- Entropy Calculation: Compute the entropy of the entire dataset.\n",
        "\n",
        "- Feature Selection: For each available feature, compute Information Gain after\n",
        "  splitting the dataset based on that feature.\n",
        "\n",
        "- Best Split Decision: The feature with the highest Information Gain is chosen\n",
        "  for the split.\n",
        "\n",
        "- Recursive Splitting: The process repeats until the tree reaches an optimal\n",
        "  structure\n",
        "\n",
        "Q6.What is the difference between Gini Impurity and Entropy?\n",
        "\n",
        "  -> Gini Impurity - Gini Impurity is faster and often preferred for practical implementation\n",
        "\n",
        "     Entropy - Entropy aligns better with information gain concepts but is computationally heavier\n",
        "\n",
        "\n",
        "Q8. What is Pre-Pruning in Decision Trees\t?\n",
        "\n",
        "  -> Pre-pruning in decision trees is a technique used to prevent overfitting by stopping the tree from growing too deep. Instead of allowing the tree to expand indefinitely, pre-pruning imposes constraints to limit its complexity.\n",
        "\n",
        "\n",
        "Q9. What is Post-Pruning in Decision Trees?\n",
        "\n",
        "  -> Post-pruning is a technique used in decision trees to simplify a fully grown tree by trimming unnecessary branches, improving generalization and reducing overfitting.\n",
        "\n",
        "Q10.What is the difference between Pre-Pruning and Post-Pruning?\n",
        "\n",
        "  -> Pre-Pruning: Useful when computational efficiency is a priority, but it may lead to missing important patterns.\n",
        "\n",
        "Post-Pruning: Often leads to better accuracy, as it first captures complexity, then trims unnecessary branches.\n",
        "\n",
        "Q11.What is a Decision Tree Regressor?\n",
        "\n",
        "  -> A Decision Tree Regressor is a type of decision tree used for predicting continuous numerical values rather than class labels. It follows the same fundamental structure as a classification tree but is adapted for regression tasks\n",
        "\n",
        "\n",
        "Q12.What are the advantages and disadvantages of Decision Trees?\n",
        "\n",
        "  ->  ✅ Easy to Understand & Interpret\n",
        "\n",
        "- Their simple tree structure makes them highly intuitive, even for non-experts.\n",
        "\n",
        "- Can be easily visualized, which helps in explaining decisions.\n",
        "\n",
        "✅ Handles Non-Linearity Well\n",
        "\n",
        "- Can capture complex relationships between features without requiring\n",
        "  transformations\n",
        "\n",
        "  Disadvantages of Decision Trees\n",
        "\n",
        "\n",
        "❌ Overfitting Risk\n",
        "\n",
        "- If left unpruned, trees can grow too complex and memorize noise in the data\n",
        " rather than generalizing well.\n",
        "\n",
        "❌ Instability\n",
        "\n",
        "- Small changes in training data can lead to drastically different tree\n",
        "  structures\n",
        "\n",
        "Q13.How does a Decision Tree handle missing values?\n",
        "\n",
        "  -> 1. Ignoring Missing Values in Splitting\n",
        "Some decision tree algorithms, like CART, can split the dataset based only on available values.\n",
        "\n",
        "Missing values do not affect the tree's structure; they are skipped during training.\n",
        "\n",
        "2. Imputation Before Training\n",
        "Mean/Median Imputation: Replace missing numerical values with the mean or median of the feature.\n",
        "\n",
        "Mode Imputation: For categorical data, replace missing values with the most frequent category.\n",
        "\n",
        "Preprocessing methods like K-Nearest Neighbors (KNN) imputation can improve accuracy.\n",
        "\n",
        "3. Surrogate Splits\n",
        "Instead of discarding missing values, decision trees find an alternative (surrogate) split based on correlated features.\n",
        "\n",
        "This ensures the integrity of the tree even when data is incomplete.\n",
        "\n",
        "4. Using Special Handling in Splitting Criteria\n",
        "Some implementations adjust the splitting criteria to minimize the effect of missing values.\n",
        "\n",
        "Trees might consider missing values as a separate category or follow a probabilistic approach to assign them to branches.\n",
        "\n",
        "\n",
        "Q14. How does a Decision Tree handle categorical features?\n",
        "\n",
        "  -> How Decision Trees Handle Categorical Features\n",
        "Using One-Hot Encoding (For Algorithms Like CART)\n",
        "\n",
        "Categorical variables are transformed into binary columns (e.g., \"Red,\" \"Blue,\" \"Green\" → three separate columns).\n",
        "\n",
        "The tree treats each category as an individual feature for splitting.\n",
        "\n",
        "Directly Splitting Based on Categories (For Algorithms Like ID3, C4.5)\n",
        "\n",
        "The decision tree can split a node based on categorical values without needing conversion.\n",
        "\n",
        "For example, if the feature is \"Weather\" with values Sunny, Rainy, Cloudy, the tree creates branches for each category.\n",
        "\n",
        "Using Ordinal Encoding (For Ordered Categories)\n",
        "\n",
        "If categories have a natural order (e.g., \"Low,\" \"Medium,\" \"High\"), numerical encoding can be used.\n",
        "\n",
        "However, this method should be used cautiously to avoid misleading splits.\n",
        "\n",
        "Gini or Entropy-Based Splitting\n",
        "\n",
        "The tree evaluates categorical splits using impurity measures (Gini or Entropy).\n",
        "\n",
        "It selects the best categorical feature based on the reduction in uncertainty\n",
        "\n",
        "\n",
        "\n",
        "Q15. What are some real-world applications of Decision Trees?\n",
        "\n",
        "  -> 1. Healthcare & Medical Diagnosis\n",
        "     2. Finance & Banking\n",
        "     3. Retail & E-Commerce\n",
        "     4. Manufacturing & Quality Control\n",
        "     5. Human Resources & Hiring"
      ],
      "metadata": {
        "id": "gezNVduLDfxz"
      }
    },
    {
      "cell_type": "code",
      "execution_count": 1,
      "metadata": {
        "colab": {
          "base_uri": "https://localhost:8080/"
        },
        "id": "p241GAJODYCD",
        "outputId": "3018ce6e-7df0-40f0-ee93-33378037fde3"
      },
      "outputs": [
        {
          "output_type": "stream",
          "name": "stdout",
          "text": [
            "Model Accuracy: 1.00\n"
          ]
        }
      ],
      "source": [
        "#16.Write a Python program to train a Decision Tree Classifier on the Iris dataset and print the model accuracy\n",
        "\n",
        "\n",
        "# Import necessary libraries\n",
        "from sklearn.datasets import load_iris\n",
        "from sklearn.model_selection import train_test_split\n",
        "from sklearn.tree import DecisionTreeClassifier\n",
        "from sklearn.metrics import accuracy_score\n",
        "\n",
        "# Load the Iris dataset\n",
        "iris = load_iris()\n",
        "X, y = iris.data, iris.target\n",
        "\n",
        "# Split the dataset into training and testing sets (80% train, 20% test)\n",
        "X_train, X_test, y_train, y_test = train_test_split(X, y, test_size=0.2, random_state=42)\n",
        "\n",
        "# Create and train a Decision Tree Classifier\n",
        "clf = DecisionTreeClassifier()\n",
        "clf.fit(X_train, y_train)\n",
        "\n",
        "# Make predictions on the test set\n",
        "y_pred = clf.predict(X_test)\n",
        "\n",
        "# Calculate and print accuracy\n",
        "accuracy = accuracy_score(y_test, y_pred)\n",
        "print(f\"Model Accuracy: {accuracy:.2f}\")\n"
      ]
    },
    {
      "cell_type": "code",
      "source": [
        "#17.Write a Python program to train a Decision Tree Classifier using Gini Impurity as the criterion and print the feature importances\n",
        "\n",
        "\n",
        "# Import necessary libraries\n",
        "from sklearn.datasets import load_iris\n",
        "from sklearn.model_selection import train_test_split\n",
        "from sklearn.tree import DecisionTreeClassifier\n",
        "\n",
        "# Load the Iris dataset\n",
        "iris = load_iris()\n",
        "X, y = iris.data, iris.target\n",
        "feature_names = iris.feature_names  # Store feature names for readability\n",
        "\n",
        "# Split the dataset into training and testing sets (80% train, 20% test)\n",
        "X_train, X_test, y_train, y_test = train_test_split(X, y, test_size=0.2, random_state=42)\n",
        "\n",
        "# Create and train a Decision Tree Classifier using Gini impurity\n",
        "clf = DecisionTreeClassifier(criterion=\"gini\", random_state=42)\n",
        "clf.fit(X_train, y_train)\n",
        "\n",
        "# Print feature importances\n",
        "print(\"Feature Importances:\")\n",
        "for feature, importance in zip(feature_names, clf.feature_importances_):\n",
        "    print(f\"{feature}: {importance:.4f}\")\n"
      ],
      "metadata": {
        "colab": {
          "base_uri": "https://localhost:8080/"
        },
        "id": "eyTzi_6wKyFX",
        "outputId": "ad1162f8-2c7c-4e6e-b56f-7ee97d55075c"
      },
      "execution_count": 2,
      "outputs": [
        {
          "output_type": "stream",
          "name": "stdout",
          "text": [
            "Feature Importances:\n",
            "sepal length (cm): 0.0000\n",
            "sepal width (cm): 0.0167\n",
            "petal length (cm): 0.9061\n",
            "petal width (cm): 0.0772\n"
          ]
        }
      ]
    },
    {
      "cell_type": "code",
      "source": [
        "#18.Write a Python program to train a Decision Tree Classifier using Entropy as the splitting criterion and print the model accuracy\n",
        "\n",
        "\n",
        "# Import necessary libraries\n",
        "from sklearn.datasets import load_iris\n",
        "from sklearn.model_selection import train_test_split\n",
        "from sklearn.tree import DecisionTreeClassifier\n",
        "from sklearn.metrics import accuracy_score\n",
        "\n",
        "# Load the Iris dataset\n",
        "iris = load_iris()\n",
        "X, y = iris.data, iris.target\n",
        "\n",
        "# Split the dataset into training and testing sets (80% train, 20% test)\n",
        "X_train, X_test, y_train, y_test = train_test_split(X, y, test_size=0.2, random_state=42)\n",
        "\n",
        "# Create and train a Decision Tree Classifier using Entropy\n",
        "clf = DecisionTreeClassifier(criterion=\"entropy\", random_state=42)\n",
        "clf.fit(X_train, y_train)\n",
        "\n",
        "# Make predictions on the test set\n",
        "y_pred = clf.predict(X_test)\n",
        "\n",
        "# Calculate and print accuracy\n",
        "accuracy = accuracy_score(y_test, y_pred)\n",
        "print(f\"Model Accuracy: {accuracy:.2f}\")\n"
      ],
      "metadata": {
        "colab": {
          "base_uri": "https://localhost:8080/"
        },
        "id": "8RGkAK6qLCvh",
        "outputId": "4b023b8c-b9fb-4c53-b932-7a1b4bfd77be"
      },
      "execution_count": 3,
      "outputs": [
        {
          "output_type": "stream",
          "name": "stdout",
          "text": [
            "Model Accuracy: 1.00\n"
          ]
        }
      ]
    },
    {
      "cell_type": "code",
      "source": [
        "#19.Write a Python program to train a Decision Tree Regressor on a housing dataset and evaluate using Mean Squared Error (MSE)\n",
        "\n",
        "\n",
        "# Import necessary libraries\n",
        "from sklearn.datasets import fetch_california_housing\n",
        "from sklearn.model_selection import train_test_split\n",
        "from sklearn.tree import DecisionTreeRegressor\n",
        "from sklearn.metrics import mean_squared_error\n",
        "\n",
        "# Load the California housing dataset\n",
        "housing = fetch_california_housing()\n",
        "X, y = housing.data, housing.target\n",
        "\n",
        "# Split the dataset into training and testing sets (80% train, 20% test)\n",
        "X_train, X_test, y_train, y_test = train_test_split(X, y, test_size=0.2, random_state=42)\n",
        "\n",
        "# Create and train a Decision Tree Regressor\n",
        "regressor = DecisionTreeRegressor(random_state=42)\n",
        "regressor.fit(X_train, y_train)\n",
        "\n",
        "# Make predictions on the test set\n",
        "y_pred = regressor.predict(X_test)\n",
        "\n",
        "# Calculate Mean Squared Error (MSE)\n",
        "mse = mean_squared_error(y_test, y_pred)\n",
        "print(f\"Mean Squared Error: {mse:.4f}\")\n"
      ],
      "metadata": {
        "colab": {
          "base_uri": "https://localhost:8080/"
        },
        "id": "aXgNWMZeLNZT",
        "outputId": "f061f2a5-338c-4bea-e388-dbe261a93caf"
      },
      "execution_count": 4,
      "outputs": [
        {
          "output_type": "stream",
          "name": "stdout",
          "text": [
            "Mean Squared Error: 0.4952\n"
          ]
        }
      ]
    },
    {
      "cell_type": "code",
      "source": [
        "#20.Write a Python program to train a Decision Tree Classifier and visualize the tree using graphviz.\n",
        "\n",
        "\n",
        "# Import necessary libraries\n",
        "from sklearn.datasets import load_iris\n",
        "from sklearn.model_selection import train_test_split\n",
        "from sklearn.tree import DecisionTreeClassifier\n",
        "from sklearn import tree\n",
        "import graphviz\n",
        "\n",
        "# Load the Iris dataset\n",
        "iris = load_iris()\n",
        "X, y = iris.data, iris.target\n",
        "\n",
        "# Split the dataset into training and testing sets (80% train, 20% test)\n",
        "X_train, X_test, y_train, y_test = train_test_split(X, y, test_size=0.2, random_state=42)\n",
        "\n",
        "# Create and train a Decision Tree Classifier\n",
        "clf = DecisionTreeClassifier(criterion=\"gini\", random_state=42)\n",
        "clf.fit(X_train, y_train)\n",
        "\n",
        "# Visualize the trained Decision Tree using graphviz\n",
        "dot_data = tree.export_graphviz(clf, out_file=None, feature_names=iris.feature_names,\n",
        "                                class_names=iris.target_names, filled=True, rounded=True)\n",
        "graph = graphviz.Source(dot_data)\n",
        "graph.render(\"decision_tree\")  # Saves the tree visualization as a file\n",
        "graph.view()  # Opens the visualization\n",
        "\n"
      ],
      "metadata": {
        "colab": {
          "base_uri": "https://localhost:8080/",
          "height": 35
        },
        "id": "iNSva27DLaeE",
        "outputId": "d7644870-5340-4c16-b938-37fcfa3b6893"
      },
      "execution_count": 5,
      "outputs": [
        {
          "output_type": "execute_result",
          "data": {
            "text/plain": [
              "'decision_tree.pdf'"
            ],
            "application/vnd.google.colaboratory.intrinsic+json": {
              "type": "string"
            }
          },
          "metadata": {},
          "execution_count": 5
        }
      ]
    },
    {
      "cell_type": "code",
      "source": [
        "#21.Write a Python program to train a Decision Tree Classifier with a maximum depth of 3 and compare its accuracy with a fully grown tree\n",
        "\n",
        "\n",
        "# Import necessary libraries\n",
        "from sklearn.datasets import load_iris\n",
        "from sklearn.model_selection import train_test_split\n",
        "from sklearn.tree import DecisionTreeClassifier\n",
        "from sklearn.metrics import accuracy_score\n",
        "\n",
        "# Load the Iris dataset\n",
        "iris = load_iris()\n",
        "X, y = iris.data, iris.target\n",
        "\n",
        "# Split the dataset into training and testing sets (80% train, 20% test)\n",
        "X_train, X_test, y_train, y_test = train_test_split(X, y, test_size=0.2, random_state=42)\n",
        "\n",
        "# Train a Decision Tree with max depth of 3\n",
        "clf_depth3 = DecisionTreeClassifier(max_depth=3, random_state=42)\n",
        "clf_depth3.fit(X_train, y_train)\n",
        "\n",
        "# Train a fully grown Decision Tree (no depth restriction)\n",
        "clf_full = DecisionTreeClassifier(random_state=42)\n",
        "clf_full.fit(X_train, y_train)\n",
        "\n",
        "# Make predictions\n",
        "y_pred_depth3 = clf_depth3.predict(X_test)\n",
        "y_pred_full = clf_full.predict(X_test)\n",
        "\n",
        "# Calculate and print accuracy scores\n",
        "accuracy_depth3 = accuracy_score(y_test, y_pred_depth3)\n",
        "accuracy_full = accuracy_score(y_test, y_pred_full)\n",
        "\n",
        "print(f\"Accuracy with max depth 3: {accuracy_depth3:.2f}\")\n",
        "print(f\"Accuracy with fully grown tree: {accuracy_full:.2f}\")\n"
      ],
      "metadata": {
        "colab": {
          "base_uri": "https://localhost:8080/"
        },
        "id": "eFC0TGmKLnVa",
        "outputId": "690e106d-2d78-4dae-b798-5db1a2e7337c"
      },
      "execution_count": 6,
      "outputs": [
        {
          "output_type": "stream",
          "name": "stdout",
          "text": [
            "Accuracy with max depth 3: 1.00\n",
            "Accuracy with fully grown tree: 1.00\n"
          ]
        }
      ]
    },
    {
      "cell_type": "code",
      "source": [
        "#22.Write a Python program to train a Decision Tree Classifier using min_samples_split=5 and compare its accuracy with a default tree\n",
        "\n",
        "\n",
        "# Import necessary libraries\n",
        "from sklearn.datasets import load_iris\n",
        "from sklearn.model_selection import train_test_split\n",
        "from sklearn.tree import DecisionTreeClassifier\n",
        "from sklearn.metrics import accuracy_score\n",
        "\n",
        "# Load the Iris dataset\n",
        "iris = load_iris()\n",
        "X, y = iris.data, iris.target\n",
        "\n",
        "# Split the dataset into training and testing sets (80% train, 20% test)\n",
        "X_train, X_test, y_train, y_test = train_test_split(X, y, test_size=0.2, random_state=42)\n",
        "\n",
        "# Train a Decision Tree with min_samples_split=5\n",
        "clf_split5 = DecisionTreeClassifier(min_samples_split=5, random_state=42)\n",
        "clf_split5.fit(X_train, y_train)\n",
        "\n",
        "# Train a default Decision Tree (min_samples_split=2)\n",
        "clf_default = DecisionTreeClassifier(random_state=42)\n",
        "clf_default.fit(X_train, y_train)\n",
        "\n",
        "# Make predictions\n",
        "y_pred_split5 = clf_split5.predict(X_test)\n",
        "y_pred_default = clf_default.predict(X_test)\n",
        "\n",
        "# Calculate and print accuracy scores\n",
        "accuracy_split5 = accuracy_score(y_test, y_pred_split5)\n",
        "accuracy_default = accuracy_score(y_test, y_pred_default)\n",
        "\n",
        "print(f\"Accuracy with min_samples_split=5: {accuracy_split5:.2f}\")\n",
        "print(f\"Accuracy with default min_samples_split=2: {accuracy_default:.2f}\")\n"
      ],
      "metadata": {
        "colab": {
          "base_uri": "https://localhost:8080/"
        },
        "id": "mb-uTP1bLxvs",
        "outputId": "8142a991-550e-442f-bebf-edd9df39420a"
      },
      "execution_count": 7,
      "outputs": [
        {
          "output_type": "stream",
          "name": "stdout",
          "text": [
            "Accuracy with min_samples_split=5: 1.00\n",
            "Accuracy with default min_samples_split=2: 1.00\n"
          ]
        }
      ]
    },
    {
      "cell_type": "code",
      "source": [
        "#23.Write a Python program to apply feature scaling before training a Decision Tree Classifier and compare its accuracy with unscaled data\n",
        "\n",
        "\n",
        "# Import necessary libraries\n",
        "from sklearn.datasets import load_iris\n",
        "from sklearn.model_selection import train_test_split\n",
        "from sklearn.tree import DecisionTreeClassifier\n",
        "from sklearn.preprocessing import StandardScaler\n",
        "from sklearn.metrics import accuracy_score\n",
        "\n",
        "# Load the Iris dataset\n",
        "iris = load_iris()\n",
        "X, y = iris.data, iris.target\n",
        "\n",
        "# Split the dataset into training and testing sets (80% train, 20% test)\n",
        "X_train, X_test, y_train, y_test = train_test_split(X, y, test_size=0.2, random_state=42)\n",
        "\n",
        "# Train Decision Tree on unscaled data\n",
        "clf_unscaled = DecisionTreeClassifier(random_state=42)\n",
        "clf_unscaled.fit(X_train, y_train)\n",
        "y_pred_unscaled = clf_unscaled.predict(X_test)\n",
        "accuracy_unscaled = accuracy_score(y_test, y_pred_unscaled)\n",
        "\n",
        "# Apply feature scaling using StandardScaler\n",
        "scaler = StandardScaler()\n",
        "X_train_scaled = scaler.fit_transform(X_train)\n",
        "X_test_scaled = scaler.transform(X_test)\n",
        "\n",
        "# Train Decision Tree on scaled data\n",
        "clf_scaled = DecisionTreeClassifier(random_state=42)\n",
        "clf_scaled.fit(X_train_scaled, y_train)\n",
        "y_pred_scaled = clf_scaled.predict(X_test_scaled)\n",
        "accuracy_scaled = accuracy_score(y_test, y_pred_scaled)\n",
        "\n",
        "# Compare accuracy\n",
        "print(f\"Accuracy without feature scaling: {accuracy_unscaled:.2f}\")\n",
        "print(f\"Accuracy with feature scaling: {accuracy_scaled:.2f}\")\n"
      ],
      "metadata": {
        "colab": {
          "base_uri": "https://localhost:8080/"
        },
        "id": "31SubgcQMB8l",
        "outputId": "1f0caf9e-40aa-462d-8c0e-6d6ac5f2ef02"
      },
      "execution_count": 8,
      "outputs": [
        {
          "output_type": "stream",
          "name": "stdout",
          "text": [
            "Accuracy without feature scaling: 1.00\n",
            "Accuracy with feature scaling: 1.00\n"
          ]
        }
      ]
    },
    {
      "cell_type": "code",
      "source": [
        "#24.Write a Python program to train a Decision Tree Classifier using One-vs-Rest (OvR) strategy for multiclass classification\n",
        "\n",
        "\n",
        "# Import necessary libraries\n",
        "from sklearn.datasets import load_iris\n",
        "from sklearn.model_selection import train_test_split\n",
        "from sklearn.tree import DecisionTreeClassifier\n",
        "from sklearn.multiclass import OneVsRestClassifier\n",
        "from sklearn.metrics import accuracy_score\n",
        "\n",
        "# Load the Iris dataset\n",
        "iris = load_iris()\n",
        "X, y = iris.data, iris.target\n",
        "\n",
        "# Split the dataset into training and testing sets (80% train, 20% test)\n",
        "X_train, X_test, y_train, y_test = train_test_split(X, y, test_size=0.2, random_state=42)\n",
        "\n",
        "# Apply One-vs-Rest strategy with a Decision Tree Classifier\n",
        "clf_ovr = OneVsRestClassifier(DecisionTreeClassifier(random_state=42))\n",
        "clf_ovr.fit(X_train, y_train)\n",
        "\n",
        "# Make predictions\n",
        "y_pred = clf_ovr.predict(X_test)\n",
        "\n",
        "# Calculate and print model accuracy\n",
        "accuracy = accuracy_score(y_test, y_pred)\n",
        "print(f\"Model Accuracy using One-vs-Rest: {accuracy:.2f}\")\n"
      ],
      "metadata": {
        "colab": {
          "base_uri": "https://localhost:8080/"
        },
        "id": "GKy4VkHjMOJZ",
        "outputId": "826d77df-097e-4492-addb-0ccb4fc6682f"
      },
      "execution_count": 9,
      "outputs": [
        {
          "output_type": "stream",
          "name": "stdout",
          "text": [
            "Model Accuracy using One-vs-Rest: 1.00\n"
          ]
        }
      ]
    },
    {
      "cell_type": "code",
      "source": [
        "#25.Write a Python program to train a Decision Tree Classifier and display the feature importance scores.\n",
        "\n",
        "\n",
        "# Import necessary libraries\n",
        "from sklearn.datasets import load_iris\n",
        "from sklearn.model_selection import train_test_split\n",
        "from sklearn.tree import DecisionTreeClassifier\n",
        "\n",
        "# Load the Iris dataset\n",
        "iris = load_iris()\n",
        "X, y = iris.data, iris.target\n",
        "feature_names = iris.feature_names  # Store feature names for readability\n",
        "\n",
        "# Split the dataset into training and testing sets (80% train, 20% test)\n",
        "X_train, X_test, y_train, y_test = train_test_split(X, y, test_size=0.2, random_state=42)\n",
        "\n",
        "# Train the Decision Tree Classifier\n",
        "clf = DecisionTreeClassifier(random_state=42)\n",
        "clf.fit(X_train, y_train)\n",
        "\n",
        "# Display feature importance scores\n",
        "print(\"Feature Importances:\")\n",
        "for feature, importance in zip(feature_names, clf.feature_importances_):\n",
        "    print(f\"{feature}: {importance:.4f}\")\n"
      ],
      "metadata": {
        "colab": {
          "base_uri": "https://localhost:8080/"
        },
        "id": "GVvXPWlBMZge",
        "outputId": "85640cb7-978c-4a05-ba24-0098e1e97c27"
      },
      "execution_count": 10,
      "outputs": [
        {
          "output_type": "stream",
          "name": "stdout",
          "text": [
            "Feature Importances:\n",
            "sepal length (cm): 0.0000\n",
            "sepal width (cm): 0.0167\n",
            "petal length (cm): 0.9061\n",
            "petal width (cm): 0.0772\n"
          ]
        }
      ]
    },
    {
      "cell_type": "code",
      "source": [
        "#26.Write a Python program to train a Decision Tree Regressor with max_depth=5 and compare its performance with an unrestricted tree\n",
        "\n",
        "\n",
        "# Import necessary libraries\n",
        "from sklearn.datasets import fetch_california_housing\n",
        "from sklearn.model_selection import train_test_split\n",
        "from sklearn.tree import DecisionTreeRegressor\n",
        "from sklearn.metrics import mean_squared_error\n",
        "\n",
        "# Load the California housing dataset\n",
        "housing = fetch_california_housing()\n",
        "X, y = housing.data, housing.target\n",
        "\n",
        "# Split the dataset into training and testing sets (80% train, 20% test)\n",
        "X_train, X_test, y_train, y_test = train_test_split(X, y, test_size=0.2, random_state=42)\n",
        "\n",
        "# Train a Decision Tree Regressor with max_depth=5\n",
        "regressor_depth5 = DecisionTreeRegressor(max_depth=5, random_state=42)\n",
        "regressor_depth5.fit(X_train, y_train)\n",
        "\n",
        "# Train an unrestricted Decision Tree Regressor\n",
        "regressor_full = DecisionTreeRegressor(random_state=42)\n",
        "regressor_full.fit(X_train, y_train)\n",
        "\n",
        "# Make predictions\n",
        "y_pred_depth5 = regressor_depth5.predict(X_test)\n",
        "y_pred_full = regressor_full.predict(X_test)\n",
        "\n",
        "# Calculate Mean Squared Error (MSE) for both models\n",
        "mse_depth5 = mean_squared_error(y_test, y_pred_depth5)\n",
        "mse_full = mean_squared_error(y_test, y_pred_full)\n",
        "\n",
        "# Print comparison results\n",
        "print(f\"Mean Squared Error with max_depth=5: {mse_depth5:.4f}\")\n",
        "print(f\"Mean Squared Error with unrestricted tree: {mse_full:.4f}\")\n"
      ],
      "metadata": {
        "colab": {
          "base_uri": "https://localhost:8080/"
        },
        "id": "wmbb_AefMmmP",
        "outputId": "c766d9af-6ac5-402e-e505-697677fcfba2"
      },
      "execution_count": 11,
      "outputs": [
        {
          "output_type": "stream",
          "name": "stdout",
          "text": [
            "Mean Squared Error with max_depth=5: 0.5245\n",
            "Mean Squared Error with unrestricted tree: 0.4952\n"
          ]
        }
      ]
    },
    {
      "cell_type": "code",
      "source": [
        "#27.Write a Python program to train a Decision Tree Classifier, apply Cost Complexity Pruning (CCP), and visualize its effect on accuracy\n",
        "\n",
        "\n",
        "# Import necessary libraries\n",
        "import numpy as np\n",
        "import matplotlib.pyplot as plt\n",
        "from sklearn.datasets import load_iris\n",
        "from sklearn.model_selection import train_test_split\n",
        "from sklearn.tree import DecisionTreeClassifier\n",
        "from sklearn.metrics import accuracy_score\n",
        "\n",
        "# Load the Iris dataset\n",
        "iris = load_iris()\n",
        "X, y = iris.data, iris.target\n",
        "\n",
        "# Split dataset into training (80%) and testing (20%) sets\n",
        "X_train, X_test, y_train, y_test = train_test_split(X, y, test_size=0.2, random_state=42)\n",
        "\n",
        "# Train an unpruned Decision Tree (default ccp_alpha=0)\n",
        "clf_unpruned = DecisionTreeClassifier(random_state=42)\n",
        "clf_unpruned.fit(X_train, y_train)\n",
        "\n",
        "# Compute accuracy for unpruned tree\n",
        "y_pred_unpruned = clf_unpruned.predict(X_test)\n",
        "accuracy_unpruned = accuracy_score(y_test, y_pred_unpruned)\n",
        "\n",
        "# Find optimal ccp_alpha values from cost complexity pruning path\n",
        "path = clf_unpruned.cost_complexity_pruning_path(X_train, y_train)\n",
        "ccp_alphas = path.ccp_alphas[:-1]  # Exclude the last alpha (fully pruned tree)\n",
        "\n",
        "# Train multiple pruned trees with different ccp_alpha values\n",
        "accuracies = []\n",
        "for alpha in ccp_alphas:\n",
        "    clf_pruned = DecisionTreeClassifier(ccp_alpha=alpha, random_state=42)\n",
        "    clf_pruned.fit(X_train, y_train)\n",
        "    y_pred_pruned = clf_pruned.predict(X_test)\n",
        "    accuracies.append(accuracy_score(y_test, y_pred_pruned))\n",
        "\n",
        "# Plot accuracy vs. ccp_alpha values\n",
        "plt.figure(figsize=(8, 6))\n",
        "plt.plot(ccp_alphas, accuracies, marker='o', linestyle='--', label=\"Pruned Tree Accuracy\")\n",
        "plt.axhline(y=accuracy_unpruned, color=\"red\", linestyle=\"-\", label=\"Unpruned Accuracy\")\n",
        "plt.xlabel(\"ccp_alpha\")\n",
        "plt.ylabel(\"Accuracy\")\n",
        "plt.title(\"Effect of Cost Complexity Pruning (CCP) on Decision Tree Accuracy\")\n",
        "plt.legend()\n",
        "plt.show()\n"
      ],
      "metadata": {
        "colab": {
          "base_uri": "https://localhost:8080/",
          "height": 564
        },
        "id": "9ByTb6YkMzIA",
        "outputId": "f60c7c1a-9213-4211-c31b-37d36b0d15bf"
      },
      "execution_count": 12,
      "outputs": [
        {
          "output_type": "display_data",
          "data": {
            "text/plain": [
              "<Figure size 800x600 with 1 Axes>"
            ],
            "image/png": "[encoded data removed]"
          },
          "metadata": {}
        }
      ]
    },
    {
      "cell_type": "code",
      "source": [
        "#28.Write a Python program to train a Decision Tree Classifier and evaluate its performance using Precision, Recall, and F1-Score\n",
        "\n",
        "\n",
        "# Import necessary libraries\n",
        "from sklearn.datasets import load_iris\n",
        "from sklearn.model_selection import train_test_split\n",
        "from sklearn.tree import DecisionTreeClassifier\n",
        "from sklearn.metrics import precision_score, recall_score, f1_score\n",
        "\n",
        "# Load the Iris dataset\n",
        "iris = load_iris()\n",
        "X, y = iris.data, iris.target\n",
        "\n",
        "# Split the dataset into training (80%) and testing (20%) sets\n",
        "X_train, X_test, y_train, y_test = train_test_split(X, y, test_size=0.2, random_state=42)\n",
        "\n",
        "# Train the Decision Tree Classifier\n",
        "clf = DecisionTreeClassifier(random_state=42)\n",
        "clf.fit(X_train, y_train)\n",
        "\n",
        "# Make predictions\n",
        "y_pred = clf.predict(X_test)\n",
        "\n",
        "# Compute Precision, Recall, and F1-Score\n",
        "precision = precision_score(y_test, y_pred, average=\"macro\")  # Macro-average for multiclass\n",
        "recall = recall_score(y_test, y_pred, average=\"macro\")\n",
        "f1 = f1_score(y_test, y_pred, average=\"macro\")\n",
        "\n",
        "# Print evaluation metrics\n",
        "print(f\"Precision: {precision:.2f}\")\n",
        "print(f\"Recall: {recall:.2f}\")\n",
        "print(f\"F1-Score: {f1:.2f}\")\n"
      ],
      "metadata": {
        "colab": {
          "base_uri": "https://localhost:8080/"
        },
        "id": "nW4Xp1FwM_q0",
        "outputId": "100f9a31-6795-4de5-8ad2-8aa28d39155e"
      },
      "execution_count": 13,
      "outputs": [
        {
          "output_type": "stream",
          "name": "stdout",
          "text": [
            "Precision: 1.00\n",
            "Recall: 1.00\n",
            "F1-Score: 1.00\n"
          ]
        }
      ]
    },
    {
      "cell_type": "code",
      "source": [
        "#29.Write a Python program to train a Decision Tree Classifier and visualize the confusion matrix using seaborn\n",
        "\n",
        "\n",
        "# Import necessary libraries\n",
        "import seaborn as sns\n",
        "import matplotlib.pyplot as plt\n",
        "from sklearn.datasets import load_iris\n",
        "from sklearn.model_selection import train_test_split\n",
        "from sklearn.tree import DecisionTreeClassifier\n",
        "from sklearn.metrics import confusion_matrix\n",
        "\n",
        "# Load the Iris dataset\n",
        "iris = load_iris()\n",
        "X, y = iris.data, iris.target\n",
        "\n",
        "# Split the dataset into training (80%) and testing (20%) sets\n",
        "X_train, X_test, y_train, y_test = train_test_split(X, y, test_size=0.2, random_state=42)\n",
        "\n",
        "# Train a Decision Tree Classifier\n",
        "clf = DecisionTreeClassifier(random_state=42)\n",
        "clf.fit(X_train, y_train)\n",
        "\n",
        "# Make predictions\n",
        "y_pred = clf.predict(X_test)\n",
        "\n",
        "# Compute confusion matrix\n",
        "cm = confusion_matrix(y_test, y_pred)\n",
        "\n",
        "# Visualize confusion matrix using seaborn heatmap\n",
        "plt.figure(figsize=(6, 5))\n",
        "sns.heatmap(cm, annot=True, fmt=\"d\", cmap=\"Blues\", xticklabels=iris.target_names, yticklabels=iris.target_names)\n",
        "plt.xlabel(\"Predicted Label\")\n",
        "plt.ylabel(\"True Label\")\n",
        "plt.title(\"Confusion Matrix of Decision Tree Classifier\")\n",
        "plt.show()\n"
      ],
      "metadata": {
        "colab": {
          "base_uri": "https://localhost:8080/",
          "height": 487
        },
        "id": "B4FGETuxNMlv",
        "outputId": "0ffca19f-636e-4a43-bad5-a43dd1654616"
      },
      "execution_count": 14,
      "outputs": [
        {
          "output_type": "display_data",
          "data": {
            "text/plain": [
              "<Figure size 600x500 with 2 Axes>"
            ],
            "image/png": "[encoded data removed]"
          },
          "metadata": {}
        }
      ]
    },
    {
      "cell_type": "code",
      "source": [
        "#30.Write a Python program to train a Decision Tree Classifier and use GridSearchCV to find the optimal values for max_depth and min_samples_split.\n",
        "\n",
        "\n",
        "# Import necessary libraries\n",
        "from sklearn.datasets import load_iris\n",
        "from sklearn.model_selection import train_test_split, GridSearchCV\n",
        "from sklearn.tree import DecisionTreeClassifier\n",
        "from sklearn.metrics import accuracy_score\n",
        "\n",
        "# Load the Iris dataset\n",
        "iris = load_iris()\n",
        "X, y = iris.data, iris.target\n",
        "\n",
        "# Split the dataset into training (80%) and testing (20%) sets\n",
        "X_train, X_test, y_train, y_test = train_test_split(X, y, test_size=0.2, random_state=42)\n",
        "\n",
        "# Define the parameter grid for max_depth and min_samples_split\n",
        "param_grid = {\n",
        "    \"max_depth\": [3, 5, 7, None],  # Trying different depths including no restriction\n",
        "    \"min_samples_split\": [2, 5, 10]  # Minimum samples needed to split a node\n",
        "}\n",
        "\n",
        "# Initialize the Decision Tree Classifier\n",
        "clf = DecisionTreeClassifier(random_state=42)\n",
        "\n",
        "# Use GridSearchCV to find the optimal parameters\n",
        "grid_search = GridSearchCV(clf, param_grid, cv=5, scoring=\"accuracy\")\n",
        "grid_search.fit(X_train, y_train)\n",
        "\n",
        "# Get the best parameters\n",
        "best_params = grid_search.best_params_\n",
        "print(f\"Best parameters: {best_params}\")\n",
        "\n",
        "# Train the Decision Tree Classifier with the best parameters\n",
        "clf_best = DecisionTreeClassifier(**best_params, random_state=42)\n",
        "clf_best.fit(X_train, y_train)\n",
        "\n",
        "# Make predictions\n",
        "y_pred = clf_best.predict(X_test)\n",
        "\n",
        "# Compute accuracy\n",
        "accuracy = accuracy_score(y_test, y_pred)\n",
        "print(f\"Accuracy with best parameters: {accuracy:.2f}\")\n"
      ],
      "metadata": {
        "colab": {
          "base_uri": "https://localhost:8080/"
        },
        "id": "oy-GgYwlNU2s",
        "outputId": "8bf8d9e4-8daa-406f-9c88-7875bd734bc8"
      },
      "execution_count": 15,
      "outputs": [
        {
          "output_type": "stream",
          "name": "stdout",
          "text": [
            "Best parameters: {'max_depth': 7, 'min_samples_split': 2}\n",
            "Accuracy with best parameters: 1.00\n"
          ]
        }
      ]
    }
  ]
}